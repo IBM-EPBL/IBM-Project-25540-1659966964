{
  "nbformat": 4,
  "nbformat_minor": 0,
  "metadata": {
    "colab": {
      "provenance": []
    },
    "kernelspec": {
      "name": "python3",
      "display_name": "Python 3"
    },
    "language_info": {
      "name": "python"
    }
  },
  "cells": [
    {
      "cell_type": "code",
      "execution_count": 2,
      "metadata": {
        "id": "rRs2c1SgbDWw"
      },
      "outputs": [],
      "source": [
        "from keras.preprocessing.image import ImageDataGenerator\n"
      ]
    },
    {
      "cell_type": "code",
      "source": [
        "train_datageneration = ImageDataGenerator (rescale = 1./255, shear_range= 0.25,zoom_range= 0.3, horizontal_flip = True)\n",
        "test_datageneration = ImageDataGenerator (rescale = 1./255, shear_range= 0.30,zoom_range= 0.25, horizontal_flip = True)\n"
      ],
      "metadata": {
        "id": "T6ME0V8od8xe"
      },
      "execution_count": 3,
      "outputs": []
    },
    {
      "cell_type": "code",
      "source": [
        "x_test_veg = train_datageneration .flow_from_directory(r'/content/drive/MyDrive/IBM/Dataset Plant Disease/Veg-dataset/Veg-dataset/test_set',target_size = (128,128), batch_size = 32, class_mode = 'categorical')\n",
        "x_train_veg= train_datageneration .flow_from_directory(r'/content/drive/MyDrive/IBM/Dataset Plant Disease/Veg-dataset/Veg-dataset/train_set',target_size = (128,128), batch_size = 32, class_mode = 'categorical')\n",
        "\n"
      ],
      "metadata": {
        "colab": {
          "base_uri": "https://localhost:8080/"
        },
        "id": "AUwqhrdQd_1T",
        "outputId": "ddcde0c7-1b5d-424d-81f6-e72eaded1eee"
      },
      "execution_count": 7,
      "outputs": [
        {
          "output_type": "stream",
          "name": "stdout",
          "text": [
            "Found 3416 images belonging to 9 classes.\n",
            "Found 11396 images belonging to 9 classes.\n"
          ]
        }
      ]
    },
    {
      "cell_type": "code",
      "source": [
        "x_test_fruit = train_datageneration .flow_from_directory(r'/content/drive/MyDrive/IBM/Dataset Plant Disease/fruit-dataset/fruit-dataset/test',target_size = (128,128), batch_size = 32, class_mode = 'categorical')\n",
        "x_train_fruit= train_datageneration .flow_from_directory(r'/content/drive/MyDrive/IBM/Dataset Plant Disease/fruit-dataset/fruit-dataset/train',target_size = (128,128), batch_size = 32, class_mode = 'categorical')\n",
        "\n"
      ],
      "metadata": {
        "colab": {
          "base_uri": "https://localhost:8080/"
        },
        "id": "Fv1PMZRIMYkX",
        "outputId": "b132d739-5dba-4a68-ea0a-b4624056da8f"
      },
      "execution_count": 6,
      "outputs": [
        {
          "output_type": "stream",
          "name": "stdout",
          "text": [
            "Found 1686 images belonging to 6 classes.\n",
            "Found 5394 images belonging to 6 classes.\n"
          ]
        }
      ]
    }
  ]
}