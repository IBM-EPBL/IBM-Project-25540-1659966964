{
  "nbformat": 4,
  "nbformat_minor": 0,
  "metadata": {
    "colab": {
      "provenance": []
    },
    "kernelspec": {
      "name": "python3",
      "display_name": "Python 3"
    },
    "language_info": {
      "name": "python"
    }
  },
  "cells": [
    {
      "cell_type": "code",
      "execution_count": 4,
      "metadata": {
        "colab": {
          "base_uri": "https://localhost:8080/"
        },
        "id": "JckXCF9IrbRM",
        "outputId": "7aed82eb-2b62-49e6-a398-989d16bd87e6"
      },
      "outputs": [
        {
          "output_type": "stream",
          "name": "stdout",
          "text": [
            "Found 5394 images belonging to 6 classes.\n",
            "Found 1686 images belonging to 6 classes.\n"
          ]
        },
        {
          "output_type": "stream",
          "name": "stderr",
          "text": [
            "/usr/local/lib/python3.7/dist-packages/ipykernel_launcher.py:60: UserWarning: `Model.fit_generator` is deprecated and will be removed in a future version. Please use `Model.fit`, which supports generators.\n"
          ]
        },
        {
          "output_type": "stream",
          "name": "stdout",
          "text": [
            "Epoch 1/20\n",
            "89/89 [==============================] - 338s 4s/step - loss: 1.2408 - accuracy: 0.5558 - val_loss: 0.6289 - val_accuracy: 0.8079\n",
            "Epoch 2/20\n",
            "89/89 [==============================] - 167s 2s/step - loss: 0.6513 - accuracy: 0.7676 - val_loss: 0.4024 - val_accuracy: 0.8877\n",
            "Epoch 3/20\n",
            "89/89 [==============================] - 85s 962ms/step - loss: 0.4928 - accuracy: 0.8331 - val_loss: 0.3068 - val_accuracy: 0.8935\n",
            "Epoch 4/20\n",
            "89/89 [==============================] - 53s 596ms/step - loss: 0.4090 - accuracy: 0.8648 - val_loss: 0.2655 - val_accuracy: 0.9167\n",
            "Epoch 5/20\n",
            "89/89 [==============================] - 35s 400ms/step - loss: 0.3614 - accuracy: 0.8690 - val_loss: 0.2186 - val_accuracy: 0.9201\n",
            "Epoch 6/20\n",
            "89/89 [==============================] - 29s 319ms/step - loss: 0.3343 - accuracy: 0.8860 - val_loss: 0.2381 - val_accuracy: 0.9190\n",
            "Epoch 7/20\n",
            "89/89 [==============================] - 22s 248ms/step - loss: 0.2854 - accuracy: 0.9072 - val_loss: 0.2003 - val_accuracy: 0.9410\n",
            "Epoch 8/20\n",
            "89/89 [==============================] - 20s 229ms/step - loss: 0.2740 - accuracy: 0.9044 - val_loss: 0.1524 - val_accuracy: 0.9514\n",
            "Epoch 9/20\n",
            "89/89 [==============================] - 20s 228ms/step - loss: 0.2453 - accuracy: 0.9181 - val_loss: 0.1687 - val_accuracy: 0.9410\n",
            "Epoch 10/20\n",
            "89/89 [==============================] - 19s 211ms/step - loss: 0.2478 - accuracy: 0.9146 - val_loss: 0.1936 - val_accuracy: 0.9294\n",
            "Epoch 11/20\n",
            "89/89 [==============================] - 19s 219ms/step - loss: 0.2121 - accuracy: 0.9277 - val_loss: 0.1404 - val_accuracy: 0.9583\n",
            "Epoch 12/20\n",
            "89/89 [==============================] - 19s 211ms/step - loss: 0.2220 - accuracy: 0.9234 - val_loss: 0.1374 - val_accuracy: 0.9595\n",
            "Epoch 13/20\n",
            "89/89 [==============================] - 19s 212ms/step - loss: 0.2030 - accuracy: 0.9255 - val_loss: 0.1234 - val_accuracy: 0.9583\n",
            "Epoch 14/20\n",
            "89/89 [==============================] - 19s 212ms/step - loss: 0.1974 - accuracy: 0.9354 - val_loss: 0.1333 - val_accuracy: 0.9583\n",
            "Epoch 15/20\n",
            "89/89 [==============================] - 19s 211ms/step - loss: 0.1720 - accuracy: 0.9424 - val_loss: 0.1392 - val_accuracy: 0.9537\n",
            "Epoch 16/20\n",
            "89/89 [==============================] - 19s 210ms/step - loss: 0.1722 - accuracy: 0.9418 - val_loss: 0.0996 - val_accuracy: 0.9688\n",
            "Epoch 17/20\n",
            "89/89 [==============================] - 19s 209ms/step - loss: 0.1631 - accuracy: 0.9428 - val_loss: 0.0919 - val_accuracy: 0.9699\n",
            "Epoch 18/20\n",
            "89/89 [==============================] - 19s 210ms/step - loss: 0.1646 - accuracy: 0.9439 - val_loss: 0.1046 - val_accuracy: 0.9664\n",
            "Epoch 19/20\n",
            "89/89 [==============================] - 19s 210ms/step - loss: 0.1427 - accuracy: 0.9498 - val_loss: 0.0984 - val_accuracy: 0.9618\n",
            "Epoch 20/20\n",
            "89/89 [==============================] - 19s 210ms/step - loss: 0.1416 - accuracy: 0.9520 - val_loss: 0.1168 - val_accuracy: 0.9583\n"
          ]
        }
      ],
      "source": [
        "\n",
        "from keras.models import Sequential\n",
        "from keras.layers import Convolution2D\n",
        "from keras.layers import MaxPooling2D\n",
        "from keras.layers import Flatten\n",
        "from keras.layers import Dense, Dropout\n",
        "from keras import optimizers\n",
        "\n",
        "\n",
        "classifier = Sequential()\n",
        "\n",
        "\n",
        "classifier.add(Convolution2D(32, 3,  3, input_shape = (64, 64, 3), activation = 'relu'))\n",
        "\n",
        "\n",
        "classifier.add(MaxPooling2D(pool_size =(2,2)))\n",
        "\n",
        "\n",
        "classifier.add(Flatten())\n",
        "\n",
        "\n",
        "classifier.add(Dense(256, activation = 'relu'))\n",
        "classifier.add(Dropout(0.5))\n",
        "classifier.add(Dense(6, activation = 'softmax'))\n",
        "\n",
        "\n",
        "classifier.compile(\n",
        "              optimizer = 'adam',\n",
        "              loss = 'categorical_crossentropy',\n",
        "              metrics = ['accuracy'])\n",
        "\n",
        "\n",
        "from keras.preprocessing.image import ImageDataGenerator\n",
        "train_datagen = ImageDataGenerator(\n",
        "        rescale=1./255,\n",
        "        shear_range=0.2,\n",
        "        zoom_range=0.2,\n",
        "        horizontal_flip=True)\n",
        "\n",
        "test_datagen = ImageDataGenerator(rescale=1./255)\n",
        "\n",
        "training_set = train_datagen.flow_from_directory(\n",
        "        '/content/drive/MyDrive/IBM/Dataset Plant Disease/fruit-dataset/fruit-dataset/train',\n",
        "        target_size=(64, 64),\n",
        "        batch_size=32,\n",
        "        class_mode='categorical')\n",
        "\n",
        "test_set = test_datagen.flow_from_directory(\n",
        "        '/content/drive/MyDrive/IBM/Dataset Plant Disease/fruit-dataset/fruit-dataset/test',\n",
        "        target_size=(64, 64),\n",
        "        batch_size=32,\n",
        "        class_mode='categorical')\n",
        "\n",
        "model = classifier.fit_generator(\n",
        "        training_set,\n",
        "        steps_per_epoch=89,\n",
        "        epochs=20,\n",
        "        validation_data = test_set,\n",
        "        validation_steps = 27\n",
        "      )\n",
        "\n",
        "\n",
        "\n",
        "\n",
        "\n",
        "\n",
        "\n",
        "\n",
        "\n"
      ]
    },
    {
      "cell_type": "code",
      "source": [
        "\n",
        "import h5py\n",
        "classifier.save('Trained_Fruit_Model.h5')\n",
        "\n",
        "print(model.history.keys())\n",
        "import matplotlib.pyplot as plt\n",
        "\n",
        "\n",
        "plt.plot(model.history['accuracy'])\n",
        "plt.plot(model.history['val_accuracy'])\n",
        "plt.title('model accuracy')\n",
        "plt.ylabel('accuracy')\n",
        "plt.xlabel('epoch')\n",
        "plt.legend(['train', 'test'], loc='upper left')\n",
        "plt.show()\n",
        "\n",
        "\n",
        "plt.plot(model.history['loss'])\n",
        "plt.plot(model.history['val_loss'])\n",
        "plt.title('model loss')\n",
        "plt.ylabel('loss')\n",
        "plt.xlabel('epoch')\n",
        "plt.legend(['train', 'test'], loc='upper left')\n",
        "plt.show()\n"
      ],
      "metadata": {
        "colab": {
          "base_uri": "https://localhost:8080/",
          "height": 590
        },
        "id": "QSRPJKyT8y_x",
        "outputId": "a83f536c-4f66-4083-fc69-1ddfa1ca3d47"
      },
      "execution_count": 5,
      "outputs": [
        {
          "output_type": "stream",
          "name": "stdout",
          "text": [
            "dict_keys(['loss', 'accuracy', 'val_loss', 'val_accuracy'])\n"
          ]
        },
        {
          "output_type": "display_data",
          "data": {
            "text/plain": [
              "<Figure size 432x288 with 1 Axes>"
            ],
            "image/png": "[encoded data removed]"
          },
          "metadata": {
            "needs_background": "light"
          }
        },
        {
          "output_type": "display_data",
          "data": {
            "text/plain": [
              "<Figure size 432x288 with 1 Axes>"
            ],
            "image/png": "[encoded data removed]"
          },
          "metadata": {
            "needs_background": "light"
          }
        }
      ]
    }
  ]
}